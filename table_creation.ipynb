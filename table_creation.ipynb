{
 "cells": [
  {
   "cell_type": "markdown",
   "metadata": {},
   "source": [
    "# Creating DESDM DB tables\n",
    "\n",
    "----"
   ]
  },
  {
   "cell_type": "markdown",
   "metadata": {},
   "source": [
    "This is a short tutorial documenting the various techniques for creating tables in the DESDM Oracle DB using ```easyaccess```. This tutorial goes through the procedure of creating tables from the command line, the python API, and with explicit column typing via SQL commands."
   ]
  },
  {
   "cell_type": "code",
   "execution_count": 1,
   "metadata": {
    "collapsed": true
   },
   "outputs": [],
   "source": [
    "%matplotlib inline"
   ]
  },
  {
   "cell_type": "code",
   "execution_count": 2,
   "metadata": {
    "collapsed": true
   },
   "outputs": [],
   "source": [
    "import subprocess\n",
    "import numpy as np\n",
    "import fitsio\n",
    "from matplotlib.mlab import rec2csv\n",
    "import easyaccess as ea"
   ]
  },
  {
   "cell_type": "markdown",
   "metadata": {},
   "source": [
    "## Create data for upload"
   ]
  },
  {
   "cell_type": "code",
   "execution_count": 3,
   "metadata": {
    "collapsed": false
   },
   "outputs": [],
   "source": [
    "size = (100)\n",
    "x = np.random.normal(size=size)\n",
    "y = np.random.randint(0,size,size)\n",
    "z = y.astype(str)\n",
    "data = np.rec.fromarrays([x,y,z],names=['xcol','ycol','zcol'])"
   ]
  },
  {
   "cell_type": "code",
   "execution_count": 4,
   "metadata": {
    "collapsed": false
   },
   "outputs": [],
   "source": [
    "fitstable = \"mytable_fits\" \n",
    "fitsfile = fitstable+'.fits' \n",
    "fitsio.write(fitsfile,data,clobber=True)\n",
    "\n",
    "csvtable = \"mytable_csv\" \n",
    "csvfile = csvtable+'.csv' \n",
    "rec2csv(data,csvfile)"
   ]
  },
  {
   "cell_type": "markdown",
   "metadata": {},
   "source": [
    "## Uploading with Default Typing"
   ]
  },
  {
   "cell_type": "markdown",
   "metadata": {},
   "source": [
    "Upload the tables from the command line using ```easyaccess```. The datatype conversion is done by the ```easyaccess``` default mapping."
   ]
  },
  {
   "cell_type": "markdown",
   "metadata": {},
   "source": [
    "### Command-line upload"
   ]
  },
  {
   "cell_type": "code",
   "execution_count": 5,
   "metadata": {
    "collapsed": false
   },
   "outputs": [
    {
     "name": "stdout",
     "output_type": "stream",
     "text": [
      "\n",
      " Inserted 100 rows and 3 columns into table MYTABLE_FITS in 0.03 seconds\n",
      "\n",
      " Table MYTABLE_FITS loaded successfully.\n",
      "\n",
      " You might want to refresh the metadata (refresh_metadata_cache)\n",
      " so your new table appears during autocompletion\n",
      "\n",
      "To make this table public run: \n",
      "\n",
      "   grant select on MYTABLE_FITS to DES_READER;  \n",
      "\n",
      "\n"
     ]
    }
   ],
   "source": [
    "command = \"easyaccess -q -lt %s\"%fitsfile\n",
    "print subprocess.check_output(command,shell=True)"
   ]
  },
  {
   "cell_type": "code",
   "execution_count": 6,
   "metadata": {
    "collapsed": false
   },
   "outputs": [
    {
     "name": "stdout",
     "output_type": "stream",
     "text": [
      "\n",
      " Inserted 100 rows and 3 columns into table MYTABLE_CSV in 0.17 seconds\n",
      "\n",
      " Table MYTABLE_CSV loaded successfully.\n",
      "\n",
      " You might want to refresh the metadata (refresh_metadata_cache)\n",
      " so your new table appears during autocompletion\n",
      "\n",
      "To make this table public run: \n",
      "\n",
      "   grant select on MYTABLE_CSV to DES_READER;  \n",
      "\n",
      "\n"
     ]
    }
   ],
   "source": [
    "command = \"easyaccess -q -lt %s\"%csvfile\n",
    "print subprocess.check_output(command,shell=True)"
   ]
  },
  {
   "cell_type": "markdown",
   "metadata": {},
   "source": [
    "Now check that the upload succeeded. Notice that the ```zcol``` in the CSV file has been uploaded as a ```NUMBER``` because the formatting was not preserved when writing to the CSV file. For the FITS file, the typing of this column was properly preserved as ```VARCHAR2```. Note also that the column uploaded from the FITS file has whitespace characters padding the ```zcol``` entries (annoying)."
   ]
  },
  {
   "cell_type": "code",
   "execution_count": 7,
   "metadata": {
    "collapsed": false
   },
   "outputs": [
    {
     "name": "stdout",
     "output_type": "stream",
     "text": [
      "\n",
      "Description of MYTABLE_CSV commented as: 'None'\n",
      "\n",
      "  COLUMN_NAME      DATA_TYPE DATA_FORMAT COMMENTS\n",
      "1        XCOL  BINARY_DOUBLE         8,,     None\n",
      "2        YCOL         NUMBER       22,,0     None\n",
      "3        ZCOL         NUMBER       22,,0     None\n",
      "\n",
      "\n",
      "\n",
      "\n",
      "9 rows in 0.03 seconds\n",
      "\n",
      "       XCOL  YCOL  ZCOL\n",
      "1 -0.795197    62    62\n",
      "2  0.475525    65    65\n",
      "3  1.632777    73    73\n",
      "4  1.288126    40    40\n",
      "5 -0.924750    64    64\n",
      "6 -1.262833    52    52\n",
      "7  0.187935    98    98\n",
      "8 -0.071481    16    16\n",
      "9  0.348446    61    61\n",
      "\n",
      "\n"
     ]
    }
   ],
   "source": [
    "command = 'easyaccess -q -c \"describe_table %s;\"'%(csvtable)\n",
    "print subprocess.check_output(command,shell=True)\n",
    "\n",
    "command = 'easyaccess -q -c \"select * from %s where rownum < 10;\"'%(csvtable)\n",
    "print subprocess.check_output(command,shell=True)"
   ]
  },
  {
   "cell_type": "code",
   "execution_count": 8,
   "metadata": {
    "collapsed": false
   },
   "outputs": [
    {
     "name": "stdout",
     "output_type": "stream",
     "text": [
      "\n",
      "Description of MYTABLE_FITS commented as: 'None'\n",
      "\n",
      "  COLUMN_NAME      DATA_TYPE DATA_FORMAT COMMENTS\n",
      "1        XCOL  BINARY_DOUBLE         8,,     None\n",
      "2        YCOL         NUMBER        22,,     None\n",
      "3        ZCOL       VARCHAR2        21,,     None\n",
      "\n",
      "\n",
      "\n",
      "\n",
      "9 rows in 0.02 seconds\n",
      "\n",
      "       XCOL  YCOL                   ZCOL\n",
      "1 -0.795197    62  62                   \n",
      "2  0.475525    65  65                   \n",
      "3  1.632777    73  73                   \n",
      "4  1.288126    40  40                   \n",
      "5 -0.924750    64  64                   \n",
      "6 -1.262833    52  52                   \n",
      "7  0.187935    98  98                   \n",
      "8 -0.071481    16  16                   \n",
      "9  0.348446    61  61                   \n",
      "\n",
      "\n"
     ]
    }
   ],
   "source": [
    "command = 'easyaccess -q -c \"describe_table %s;\"'%(fitstable)\n",
    "print subprocess.check_output(command,shell=True)\n",
    "\n",
    "command = 'easyaccess -q -c \"select * from %s where rownum < 10;\"'%(fitstable)\n",
    "print subprocess.check_output(command,shell=True)"
   ]
  },
  {
   "cell_type": "markdown",
   "metadata": {},
   "source": [
    "### Python API upload"
   ]
  },
  {
   "cell_type": "markdown",
   "metadata": {},
   "source": [
    "For more details on the ```easyaccess``` python API, see the notebook [here](https://github.com/mgckind/access_desdm/blob/master/easyaccess_api.ipynb). Below are the basics..."
   ]
  },
  {
   "cell_type": "code",
   "execution_count": 9,
   "metadata": {
    "collapsed": false
   },
   "outputs": [],
   "source": [
    "conn=ea.connect(section='dessci',quiet=True)"
   ]
  },
  {
   "cell_type": "code",
   "execution_count": 10,
   "metadata": {
    "collapsed": false
   },
   "outputs": [
    {
     "name": "stdout",
     "output_type": "stream",
     "text": [
      "\u001b[32m\n",
      " Inserted 100 rows and 3 columns into table MYTABLE_API in 0.05 seconds\u001b[0m\n",
      "\u001b[32m\n",
      " Table MYTABLE_API loaded successfully.\u001b[0m\n",
      "\u001b[36m\n",
      " You might want to refresh the metadata (refresh_metadata_cache)\n",
      " so your new table appears during autocompletion\u001b[0m\n",
      "\n",
      "\u001b[34mTo make this table public run:\u001b[0m \n",
      "\n",
      "\u001b[34m   grant select on MYTABLE_API to DES_READER; \u001b[0m \n",
      "\n"
     ]
    }
   ],
   "source": [
    "apitable = 'mytable_api'\n",
    "conn.load_table(fitsfile,name=apitable)"
   ]
  },
  {
   "cell_type": "code",
   "execution_count": 11,
   "metadata": {
    "collapsed": false
   },
   "outputs": [
    {
     "name": "stdout",
     "output_type": "stream",
     "text": [
      "\n",
      "\u001b[36mList of my tables\n",
      "\u001b[0m\n",
      "        TABLE_NAME  SIZE_GBYTES\n",
      "1  FGOTTENMETADATA     0.002930\n",
      "2      MYTABLE_API     0.000061\n",
      "3     MYTABLE_FITS     0.000061\n",
      "4      MYTABLE_CSV     0.000061\n",
      "\n"
     ]
    }
   ],
   "source": [
    "conn.mytables()"
   ]
  },
  {
   "cell_type": "markdown",
   "metadata": {},
   "source": [
    "Clean up a bit (the ```PURGE``` command is necessary to empty Oracle's \"recycling bin\")."
   ]
  },
  {
   "cell_type": "code",
   "execution_count": 12,
   "metadata": {
    "collapsed": false
   },
   "outputs": [
    {
     "name": "stdout",
     "output_type": "stream",
     "text": [
      "DROP TABLE mytable_csv PURGE\n",
      "DROP TABLE mytable_fits PURGE\n",
      "DROP TABLE mytable_api PURGE\n"
     ]
    }
   ],
   "source": [
    "for table in [csvtable,fitstable,apitable]:\n",
    "    query = \"DROP TABLE %s PURGE\"%(table)\n",
    "    print query\n",
    "    conn.cursor().execute(query)"
   ]
  },
  {
   "cell_type": "markdown",
   "metadata": {},
   "source": [
    "## Upload with Custom Typing"
   ]
  },
  {
   "cell_type": "markdown",
   "metadata": {},
   "source": [
    "The idea is that we first create the table with a custom SQL command and then we append data to fill the table. The SQL creation command can be designed by hand, or it can be automated to some extent."
   ]
  },
  {
   "cell_type": "code",
   "execution_count": 13,
   "metadata": {
    "collapsed": false
   },
   "outputs": [],
   "source": [
    "sqltable = \"mytable_sql\"\n",
    "sql = \"\"\"\n",
    "--- Custom Table Creation\n",
    "CREATE TABLE %s (\n",
    "xcol NUMBER(6,4) NOT NULL,\n",
    "ycol BINARY_DOUBLE,\n",
    "zcol VARCHAR2(5)\n",
    ");\n",
    "\"\"\"%sqltable\n",
    "\n",
    "sqlfile = sqltable+\".sql\"\n",
    "out = open(sqlfile,'w')\n",
    "out.write(sql)\n",
    "out.close()"
   ]
  },
  {
   "cell_type": "code",
   "execution_count": 14,
   "metadata": {
    "collapsed": false
   },
   "outputs": [
    {
     "name": "stdout",
     "output_type": "stream",
     "text": [
      "\u001b[32mComment added to table: mytable_sql\u001b[0m\n",
      "\n"
     ]
    }
   ],
   "source": [
    "# Create the table from the python API\n",
    "query = conn.loadsql(sqlfile)\n",
    "conn.cursor().execute(query)\n",
    "conn.onecmd(\"add_comment table %s 'This is a table created with explicit typing.'\"%sqltable)\n",
    "\n",
    "# This can also be done from the command line with:\n",
    "# \"easyaccess -q -loadsql %s\"%sqlfile"
   ]
  },
  {
   "cell_type": "code",
   "execution_count": 15,
   "metadata": {
    "collapsed": false
   },
   "outputs": [
    {
     "name": "stdout",
     "output_type": "stream",
     "text": [
      "\n",
      "\u001b[36mDescription of MYTABLE_SQL commented as: 'This is a table created with explicit typing.'\n",
      "\u001b[0m\n",
      "  COLUMN_NAME      DATA_TYPE DATA_FORMAT COMMENTS\n",
      "1        XCOL         NUMBER      22,6,4     None\n",
      "2        YCOL  BINARY_DOUBLE         8,,     None\n",
      "3        ZCOL       VARCHAR2         5,,     None\n",
      "\n"
     ]
    }
   ],
   "source": [
    "conn.describe_table(sqltable)"
   ]
  },
  {
   "cell_type": "markdown",
   "metadata": {},
   "source": [
    "Now we append the data file to the table that we just created."
   ]
  },
  {
   "cell_type": "code",
   "execution_count": 16,
   "metadata": {
    "collapsed": false
   },
   "outputs": [
    {
     "name": "stdout",
     "output_type": "stream",
     "text": [
      "\u001b[32m\n",
      " Inserted 100 rows and 3 columns into table MYTABLE_SQL in 0.05 seconds\u001b[0m\n",
      "\u001b[32m\n",
      " Table MYTABLE_SQL appended successfully.\u001b[0m\n"
     ]
    }
   ],
   "source": [
    "conn.append_table(csvfile,sqltable)"
   ]
  },
  {
   "cell_type": "code",
   "execution_count": 17,
   "metadata": {
    "collapsed": false
   },
   "outputs": [
    {
     "name": "stdout",
     "output_type": "stream",
     "text": [
      "\n",
      "\u001b[36mDescription of MYTABLE_SQL commented as: 'This is a table created with explicit typing.'\n",
      "\u001b[0m\n",
      "  COLUMN_NAME      DATA_TYPE DATA_FORMAT COMMENTS\n",
      "1        XCOL         NUMBER      22,6,4     None\n",
      "2        YCOL  BINARY_DOUBLE         8,,     None\n",
      "3        ZCOL       VARCHAR2         5,,     None\n",
      "\n"
     ]
    },
    {
     "data": {
      "text/html": [
       "<div>\n",
       "<table border=\"1\" class=\"dataframe\">\n",
       "  <thead>\n",
       "    <tr style=\"text-align: right;\">\n",
       "      <th></th>\n",
       "      <th>XCOL</th>\n",
       "      <th>YCOL</th>\n",
       "      <th>ZCOL</th>\n",
       "    </tr>\n",
       "  </thead>\n",
       "  <tbody>\n",
       "    <tr>\n",
       "      <th>0</th>\n",
       "      <td>-0.7952</td>\n",
       "      <td>62</td>\n",
       "      <td>62</td>\n",
       "    </tr>\n",
       "    <tr>\n",
       "      <th>1</th>\n",
       "      <td>0.4755</td>\n",
       "      <td>65</td>\n",
       "      <td>65</td>\n",
       "    </tr>\n",
       "    <tr>\n",
       "      <th>2</th>\n",
       "      <td>1.6328</td>\n",
       "      <td>73</td>\n",
       "      <td>73</td>\n",
       "    </tr>\n",
       "    <tr>\n",
       "      <th>3</th>\n",
       "      <td>1.2881</td>\n",
       "      <td>40</td>\n",
       "      <td>40</td>\n",
       "    </tr>\n",
       "    <tr>\n",
       "      <th>4</th>\n",
       "      <td>-0.9247</td>\n",
       "      <td>64</td>\n",
       "      <td>64</td>\n",
       "    </tr>\n",
       "    <tr>\n",
       "      <th>5</th>\n",
       "      <td>-1.2628</td>\n",
       "      <td>52</td>\n",
       "      <td>52</td>\n",
       "    </tr>\n",
       "    <tr>\n",
       "      <th>6</th>\n",
       "      <td>0.1879</td>\n",
       "      <td>98</td>\n",
       "      <td>98</td>\n",
       "    </tr>\n",
       "    <tr>\n",
       "      <th>7</th>\n",
       "      <td>-0.0715</td>\n",
       "      <td>16</td>\n",
       "      <td>16</td>\n",
       "    </tr>\n",
       "    <tr>\n",
       "      <th>8</th>\n",
       "      <td>0.3484</td>\n",
       "      <td>61</td>\n",
       "      <td>61</td>\n",
       "    </tr>\n",
       "  </tbody>\n",
       "</table>\n",
       "</div>"
      ],
      "text/plain": [
       "     XCOL  YCOL ZCOL\n",
       "0 -0.7952    62   62\n",
       "1  0.4755    65   65\n",
       "2  1.6328    73   73\n",
       "3  1.2881    40   40\n",
       "4 -0.9247    64   64\n",
       "5 -1.2628    52   52\n",
       "6  0.1879    98   98\n",
       "7 -0.0715    16   16\n",
       "8  0.3484    61   61"
      ]
     },
     "execution_count": 17,
     "metadata": {},
     "output_type": "execute_result"
    }
   ],
   "source": [
    "conn.describe_table(sqltable)\n",
    "conn.query_to_pandas(\"select * from %s where rownum < 10\"%sqltable)"
   ]
  },
  {
   "cell_type": "code",
   "execution_count": 18,
   "metadata": {
    "collapsed": false
   },
   "outputs": [
    {
     "data": {
      "text/plain": [
       "'index'"
      ]
     },
     "execution_count": 18,
     "metadata": {},
     "output_type": "execute_result"
    }
   ],
   "source": [
    "data = conn.query_to_pandas(\"select * from nsevilla.y1a1_gold_1_0_1 where rownum < 10\").to_records()\n",
    "# For some reason, query_to_pandas returns the index as the first column...\n",
    "data.dtype.names[0]"
   ]
  },
  {
   "cell_type": "code",
   "execution_count": 19,
   "metadata": {
    "collapsed": false
   },
   "outputs": [],
   "source": [
    "def dtype2desdm(name,dtype):\n",
    "    \"\"\"\n",
    "    This is a toy function for following some of the DESDM `conventions`\n",
    "    for defining column types. The `conventions` come mostly from Y1A1_OBJECTS.\n",
    "    \n",
    "    This is NOT meant to be comprehensive. It is merely offered as an example\n",
    "    of a possible typing procedure.\n",
    "    \"\"\"\n",
    "    NAME = name.upper()\n",
    "    if NAME == 'COADD_OBJECTS_ID':\n",
    "        return \"NUMBER(11,0)\"\n",
    "    elif NAME in ['RA','DEC','L','B']:\n",
    "        return \"NUMBER(9,6)\"\n",
    "    elif NAME.startswith((\"SPREAD_\",\"SPREADERR_\",\"WAVG_SPREAD_\")):\n",
    "        return \"NUMBER(6,5)\"\n",
    "    elif NAME.startswith((\"MAG_\",\"WAVG_MAG_\",\"WAVGCALIB_MAG_\",\"WAVG_MAGERR\")):\n",
    "        # WAVG_MAGERR is probably a mistake and should be with other MAGERR values\n",
    "        return \"NUMBER(6,4)\"\n",
    "    elif NAME.startswith((\"CLASS_STAR\",\"MAGERR_\")):\n",
    "        return \"NUMBER(5,4)\"\n",
    "    elif NAME.startswith(('FLAGS_','OBSERVED_','MODEST_CLASS')):\n",
    "        return \"NUMBER(3,0)\"\n",
    "    elif NAME.startswith(('SLR_SHIFT','DESDM_ZP','DESDM_ZPERR')):\n",
    "        return \"NUMBER(6,4)\"\n",
    "    elif NAME == 'HPIX':\n",
    "        return \"NUMBER(10,0)\"\n",
    "    else:\n",
    "        return ea.dtype2oracle(dtype)"
   ]
  },
  {
   "cell_type": "code",
   "execution_count": 20,
   "metadata": {
    "collapsed": false
   },
   "outputs": [
    {
     "name": "stdout",
     "output_type": "stream",
     "text": [
      "--- Automatically generated column typing\n",
      "CREATE TABLE mytable_auto (\n",
      "  COADD_OBJECTS_ID NUMBER(11,0),\n",
      "  RA NUMBER(9,6),\n",
      "  DEC NUMBER(9,6),\n",
      "  L NUMBER(9,6),\n",
      "  B NUMBER(9,6),\n",
      "  SPREAD_MODEL_G NUMBER(6,5),\n",
      "  SPREAD_MODEL_R NUMBER(6,5),\n",
      "  SPREAD_MODEL_I NUMBER(6,5),\n",
      "  SPREAD_MODEL_Z NUMBER(6,5),\n",
      "  SPREAD_MODEL_Y NUMBER(6,5)\n",
      ");\n",
      "\n"
     ]
    }
   ],
   "source": [
    "autotable = \"mytable_auto\"\n",
    "autofile = autotable+\".sql\"\n",
    "out = open(autofile,'w')\n",
    "out = \"--- Automatically generated column typing\\n\"\n",
    "out += \"CREATE TABLE %s (\\n\"%autotable\n",
    "for i,n in enumerate(data.dtype.names):\n",
    "    # `index` is a protected name, so can't upload.\n",
    "    if n == 'index': continue\n",
    "    out+=\"  %s %s,\\n\"%(n,dtype2desdm(n,data.dtype.fields[n][0]))\n",
    "    if i > 9: break\n",
    "out = out.strip().strip(',')\n",
    "out+='\\n);\\n'\n",
    "print out\n",
    "outfile = open(autofile,'w')\n",
    "outfile.write(out)\n",
    "outfile.close()"
   ]
  },
  {
   "cell_type": "code",
   "execution_count": 21,
   "metadata": {
    "collapsed": false
   },
   "outputs": [
    {
     "name": "stdout",
     "output_type": "stream",
     "text": [
      "\n",
      "\u001b[32m\n",
      "3 rows in 0.94 seconds\u001b[0m\n",
      "\n",
      "        TABLE_NAME\n",
      "1      MYTABLE_SQL\n",
      "2  FGOTTENMETADATA\n",
      "3     MYTABLE_AUTO\n",
      "\n"
     ]
    }
   ],
   "source": [
    "query = conn.loadsql(autofile)\n",
    "conn.cursor().execute(query)\n",
    "# Careful, `describe_table` does not list empty tables...\n",
    "conn.query_and_print('select table_name from user_tables')"
   ]
  },
  {
   "cell_type": "code",
   "execution_count": 22,
   "metadata": {
    "collapsed": false
   },
   "outputs": [
    {
     "name": "stdout",
     "output_type": "stream",
     "text": [
      "DROP TABLE mytable_sql PURGE\n",
      "DROP TABLE mytable_auto PURGE\n",
      "\n",
      "\u001b[32m\n",
      "1 rows in 0.33 seconds\u001b[0m\n",
      "\n",
      "        TABLE_NAME\n",
      "1  FGOTTENMETADATA\n",
      "\n"
     ]
    }
   ],
   "source": [
    "for table in [sqltable,autotable]:\n",
    "    query = \"DROP TABLE %s PURGE\"%(table)\n",
    "    print query\n",
    "    conn.cursor().execute(query)\n",
    "conn.query_and_print('select table_name from user_tables')"
   ]
  }
 ],
 "metadata": {
  "kernelspec": {
   "display_name": "Python 2",
   "language": "python",
   "name": "python2"
  },
  "language_info": {
   "codemirror_mode": {
    "name": "ipython",
    "version": 2
   },
   "file_extension": ".py",
   "mimetype": "text/x-python",
   "name": "python",
   "nbconvert_exporter": "python",
   "pygments_lexer": "ipython2",
   "version": "2.7.8"
  }
 },
 "nbformat": 4,
 "nbformat_minor": 0
}
